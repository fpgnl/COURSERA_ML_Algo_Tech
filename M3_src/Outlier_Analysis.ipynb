{
    "cells": [
        {
            "cell_type": "markdown",
            "metadata": {},
            "source": [
                "# Outlier Analysis for Linear Regression Model\n",
                "\n",
                "This notebook analyzes the impact of removing outliers on the Mean Squared Error (MSE) of our linear regression model."
            ]
        },
        {
            "cell_type": "code",
            "execution_count": null,
            "metadata": {},
            "outputs": [],
            "source": [
                "# Import necessary libraries\n",
                "import numpy as np\n",
                "import pandas as pd\n",
                "from sklearn.model_selection import train_test_split\n",
                "from sklearn.linear_model import LinearRegression\n",
                "from sklearn.metrics import mean_squared_error, r2_score\n",
                "import matplotlib.pyplot as plt\n",
                "import seaborn as sns\n",
                "from scipy import stats"
            ]
        },
        {
            "cell_type": "markdown",
            "metadata": {},
            "source": [
                "## 1. Load and Explore the Data"
            ]
        },
        {
            "cell_type": "code",
            "execution_count": null,
            "metadata": {},
            "outputs": [],
            "source": [
                "# Load the data\n",
                "df = pd.read_csv('data.csv')\n",
                "\n",
                "# Display basic statistics\n",
                "print(\"Dataset shape:\", df.shape)\n",
                "print(\"\\nBasic statistics:\")\n",
                "print(df.describe())\n",
                "\n",
                "# Check for negative or zero values (which might be errors in this context)\n",
                "print(\"\\nNegative SqrMtr values:\", df[df['SqrMtr'] <= 0].shape[0])\n",
                "print(\"Negative Price values:\", df[df['Price'] <= 0].shape[0])"
            ]
        },
        {
            "cell_type": "markdown",
            "metadata": {},
            "source": [
                "## 2. Visualize the Data to Identify Outliers"
            ]
        },
        {
            "cell_type": "code",
            "execution_count": null,
            "metadata": {},
            "outputs": [],
            "source": [
                "# Create a scatter plot\n",
                "plt.figure(figsize=(10, 6))\n",
                "plt.scatter(df['SqrMtr'], df['Price'], alpha=0.5)\n",
                "plt.title('Price vs Square Meters')\n",
                "plt.xlabel('Square Meters')\n",
                "plt.ylabel('Price')\n",
                "plt.grid(True, alpha=0.3)\n",
                "plt.show()\n",
                "\n",
                "# Create box plots to identify outliers\n",
                "fig, (ax1, ax2) = plt.subplots(1, 2, figsize=(14, 6))\n",
                "sns.boxplot(y=df['SqrMtr'], ax=ax1)\n",
                "ax1.set_title('Square Meters Distribution')\n",
                "sns.boxplot(y=df['Price'], ax=ax2)\n",
                "ax2.set_title('Price Distribution')\n",
                "plt.tight_layout()\n",
                "plt.show()"
            ]
        },
        {
            "cell_type": "markdown",
            "metadata": {},
            "source": [
                "## 3. Baseline Model (Without Outlier Removal)"
            ]
        },
        {
            "cell_type": "code",
            "execution_count": null,
            "metadata": {},
            "outputs": [],
            "source": [
                "# Split the data into training and testing sets\n",
                "X = df[['SqrMtr']]\n",
                "y = df['Price']\n",
                "X_train, X_test, y_train, y_test = train_test_split(X, y, test_size=0.25, random_state=42)\n",
                "\n",
                "# Train the model\n",
                "model = LinearRegression()\n",
                "model.fit(X_train, y_train)\n",
                "\n",
                "# Make predictions\n",
                "y_pred = model.predict(X_test)\n",
                "\n",
                "# Calculate metrics\n",
                "baseline_mse = mean_squared_error(y_test, y_pred)\n",
                "baseline_rmse = np.sqrt(baseline_mse)\n",
                "baseline_r2 = r2_score(y_test, y_pred)\n",
                "\n",
                "print(f\"Baseline Model (No Outlier Removal):\")\n",
                "print(f\"Intercept: {model.intercept_:.2f}\")\n",
                "print(f\"Coefficient: {model.coef_[0]:.2f}\")\n",
                "print(f\"Mean Squared Error: {baseline_mse:.2f}\")\n",
                "print(f\"Root Mean Squared Error: {baseline_rmse:.2f}\")\n",
                "print(f\"R-squared: {baseline_r2:.4f}\")\n",
                "\n",
                "# Visualize the baseline model\n",
                "plt.figure(figsize=(10, 6))\n",
                "plt.scatter(X_test, y_test, color='blue', alpha=0.5, label='Actual')\n",
                "plt.plot(X_test, y_pred, color='red', linewidth=2, label='Predicted')\n",
                "plt.title('Baseline Model: Price vs Square Meters')\n",
                "plt.xlabel('Square Meters')\n",
                "plt.ylabel('Price')\n",
                "plt.legend()\n",
                "plt.grid(True, alpha=0.3)\n",
                "plt.show()"
            ]
        },
        {
            "cell_type": "markdown",
            "metadata": {},
            "source": [
                "## 4. Identify Outliers Using Different Methods"
            ]
        },
        {
            "cell_type": "code",
            "execution_count": null,
            "metadata": {},
            "outputs": [],
            "source": [
                "# Method 1: Z-score method (identifies values more than 3 standard deviations from the mean)\n",
                "def identify_outliers_zscore(df, column, threshold=3):\n",
                "    z_scores = np.abs(stats.zscore(df[column]))\n",
                "    return df[z_scores > threshold].index\n",
                "\n",
                "# Method 2: IQR method (identifies values outside 1.5 * IQR from Q1 and Q3)\n",
                "def identify_outliers_iqr(df, column):\n",
                "    Q1 = df[column].quantile(0.25)\n",
                "    Q3 = df[column].quantile(0.75)\n",
                "    IQR = Q3 - Q1\n",
                "    lower_bound = Q1 - 1.5 * IQR\n",
                "    upper_bound = Q3 + 1.5 * IQR\n",
                "    return df[(df[column] < lower_bound) | (df[column] > upper_bound)].index\n",
                "\n",
                "# Method 3: Remove negative values (which are likely errors in this context)\n",
                "def identify_negative_values(df, column):\n",
                "    return df[df[column] <= 0].index\n",
                "\n",
                "# Identify outliers using different methods\n",
                "sqrmtr_outliers_zscore = identify_outliers_zscore(df, 'SqrMtr')\n",
                "price_outliers_zscore = identify_outliers_zscore(df, 'Price')\n",
                "\n",
                "sqrmtr_outliers_iqr = identify_outliers_iqr(df, 'SqrMtr')\n",
                "price_outliers_iqr = identify_outliers_iqr(df, 'Price')\n",
                "\n",
                "negative_sqrmtr = identify_negative_values(df, 'SqrMtr')\n",
                "negative_price = identify_negative_values(df, 'Price')\n",
                "\n",
                "# Combine outliers from both columns\n",
                "zscore_outliers = list(set(sqrmtr_outliers_zscore) | set(price_outliers_zscore))\n",
                "iqr_outliers = list(set(sqrmtr_outliers_iqr) | set(price_outliers_iqr))\n",
                "negative_outliers = list(set(negative_sqrmtr) | set(negative_price))\n",
                "\n",
                "print(f\"Number of outliers identified by Z-score method: {len(zscore_outliers)}\")\n",
                "print(f\"Number of outliers identified by IQR method: {len(iqr_outliers)}\")\n",
                "print(f\"Number of negative values: {len(negative_outliers)}\")"
            ]
        },
        {
            "cell_type": "markdown",
            "metadata": {},
            "source": [
                "## 5. Model with Outliers Removed (Z-score method)"
            ]
        },
        {
            "cell_type": "code",
            "execution_count": null,
            "metadata": {},
            "outputs": [],
            "source": [
                "# Remove outliers identified by Z-score method\n",
                "df_no_zscore_outliers = df.drop(zscore_outliers)\n",
                "print(f\"Original dataset shape: {df.shape}\")\n",
                "print(f\"Dataset shape after removing Z-score outliers: {df_no_zscore_outliers.shape}\")\n",
                "\n",
                "# Split the data\n",
                "X_clean = df_no_zscore_outliers[['SqrMtr']]\n",
                "y_clean = df_no_zscore_outliers['Price']\n",
                "X_train_clean, X_test_clean, y_train_clean, y_test_clean = train_test_split(\n",
                "    X_clean, y_clean, test_size=0.25, random_state=42\n",
                ")\n",
                "\n",
                "# Train the model\n",
                "model_clean = LinearRegression()\n",
                "model_clean.fit(X_train_clean, y_train_clean)\n",
                "\n",
                "# Make predictions\n",
                "y_pred_clean = model_clean.predict(X_test_clean)\n",
                "\n",
                "# Calculate metrics\n",
                "zscore_mse = mean_squared_error(y_test_clean, y_pred_clean)\n",
                "zscore_rmse = np.sqrt(zscore_mse)\n",
                "zscore_r2 = r2_score(y_test_clean, y_pred_clean)\n",
                "\n",
                "print(f\"\\nModel with Z-score Outliers Removed:\")\n",
                "print(f\"Intercept: {model_clean.intercept_:.2f}\")\n",
                "print(f\"Coefficient: {model_clean.coef_[0]:.2f}\")\n",
                "print(f\"Mean Squared Error: {zscore_mse:.2f}\")\n",
                "print(f\"Root Mean Squared Error: {zscore_rmse:.2f}\")\n",
                "print(f\"R-squared: {zscore_r2:.4f}\")\n",
                "\n",
                "# Visualize the model\n",
                "plt.figure(figsize=(10, 6))\n",
                "plt.scatter(X_test_clean, y_test_clean, color='blue', alpha=0.5, label='Actual')\n",
                "plt.plot(X_test_clean, y_pred_clean, color='red', linewidth=2, label='Predicted')\n",
                "plt.title('Model with Z-score Outliers Removed: Price vs Square Meters')\n",
                "plt.xlabel('Square Meters')\n",
                "plt.ylabel('Price')\n",
                "plt.legend()\n",
                "plt.grid(True, alpha=0.3)\n",
                "plt.show()"
            ]
        },
        {
            "cell_type": "markdown",
            "metadata": {},
            "source": [
                "## 6. Model with Outliers Removed (IQR method)"
            ]
        },
        {
            "cell_type": "code",
            "execution_count": null,
            "metadata": {},
            "outputs": [],
            "source": [
                "# Remove outliers identified by IQR method\n",
                "df_no_iqr_outliers = df.drop(iqr_outliers)\n",
                "print(f\"Original dataset shape: {df.shape}\")\n",
                "print(f\"Dataset shape after removing IQR outliers: {df_no_iqr_outliers.shape}\")\n",
                "\n",
                "# Split the data\n",
                "X_clean = df_no_iqr_outliers[['SqrMtr']]\n",
                "y_clean = df_no_iqr_outliers['Price']\n",
                "X_train_clean, X_test_clean, y_train_clean, y_test_clean = train_test_split(\n",
                "    X_clean, y_clean, test_size=0.25, random_state=42\n",
                ")\n",
                "\n",
                "# Train the model\n",
                "model_clean = LinearRegression()\n",
                "model_clean.fit(X_train_clean, y_train_clean)\n",
                "\n",
                "# Make predictions\n",
                "y_pred_clean = model_clean.predict(X_test_clean)\n",
                "\n",
                "# Calculate metrics\n",
                "iqr_mse = mean_squared_error(y_test_clean, y_pred_clean)\n",
                "iqr_rmse = np.sqrt(iqr_mse)\n",
                "iqr_r2 = r2_score(y_test_clean, y_pred_clean)\n",
                "\n",
                "print(f\"\\nModel with IQR Outliers Removed:\")\n",
                "print(f\"Intercept: {model_clean.intercept_:.2f}\")\n",
                "print(f\"Coefficient: {model_clean.coef_[0]:.2f}\")\n",
                "print(f\"Mean Squared Error: {iqr_mse:.2f}\")\n",
                "print(f\"Root Mean Squared Error: {iqr_rmse:.2f}\")\n",
                "print(f\"R-squared: {iqr_r2:.4f}\")\n",
                "\n",
                "# Visualize the model\n",
                "plt.figure(figsize=(10, 6))\n",
                "plt.scatter(X_test_clean, y_test_clean, color='blue', alpha=0.5, label='Actual')\n",
                "plt.plot(X_test_clean, y_pred_clean, color='red', linewidth=2, label='Predicted')\n",
                "plt.title('Model with IQR Outliers Removed: Price vs Square Meters')\n",
                "plt.xlabel('Square Meters')\n",
                "plt.ylabel('Price')\n",
                "plt.legend()\n",
                "plt.grid(True, alpha=0.3)\n",
                "plt.show()"
            ]
        },
        {
            "cell_type": "markdown",
            "metadata": {},
            "source": [
                "## 7. Model with Only Negative Values Removed"
            ]
        },
        {
            "cell_type": "code",
            "execution_count": null,
            "metadata": {},
            "outputs": [],
            "source": [
                "# Remove negative values\n",
                "df_no_negatives = df.drop(negative_outliers)\n",
                "print(f\"Original dataset shape: {df.shape}\")\n",
                "print(f\"Dataset shape after removing negative values: {df_no_negatives.shape}\")\n",
                "\n",
                "# Split the data\n",
                "X_clean = df_no_negatives[['SqrMtr']]\n",
                "y_clean = df_no_negatives['Price']\n",
                "X_train_clean, X_test_clean, y_train_clean, y_test_clean = train_test_split(\n",
                "    X_clean, y_clean, test_size=0.25, random_state=42\n",
                ")\n",
                "\n",
                "# Train the model\n",
                "model_clean = LinearRegression()\n",
                "model_clean.fit(X_train_clean, y_train_clean)\n",
                "\n",
                "# Make predictions\n",
                "y_pred_clean = model_clean.predict(X_test_clean)\n",
                "\n",
                "# Calculate metrics\n",
                "neg_mse = mean_squared_error(y_test_clean, y_pred_clean)\n",
                "neg_rmse = np.sqrt(neg_mse)\n",
                "neg_r2 = r2_score(y_test_clean, y_pred_clean)\n",
                "\n",
                "print(f\"\\nModel with Negative Values Removed:\")\n",
                "print(f\"Intercept: {model_clean.intercept_:.2f}\")\n",
                "print(f\"Coefficient: {model_clean.coef_[0]:.2f}\")\n",
                "print(f\"Mean Squared Error: {neg_mse:.2f}\")\n",
                "print(f\"Root Mean Squared Error: {neg_rmse:.2f}\")\n",
                "print(f\"R-squared: {neg_r2:.4f}\")\n",
                "\n",
                "# Visualize the model\n",
                "plt.figure(figsize=(10, 6))\n",
                "plt.scatter(X_test_clean, y_test_clean, color='blue', alpha=0.5, label='Actual')\n",
                "plt.plot(X_test_clean, y_pred_clean, color='red', linewidth=2, label='Predicted')\n",
                "plt.title('Model with Negative Values Removed: Price vs Square Meters')\n",
                "plt.xlabel('Square Meters')\n",
                "plt.ylabel('Price')\n",
                "plt.legend()\n",
                "plt.grid(True, alpha=0.3)\n",
                "plt.show()"
            ]
        },
        {
            "cell_type": "markdown",
            "metadata": {},
            "source": [
                "## 8. Compare All Models"
            ]
        },
        {
            "cell_type": "code",
            "execution_count": null,
            "metadata": {},
            "outputs": [],
            "source": [
                "# Create a comparison table\n",
                "models = ['Baseline (No Outlier Removal)', 'Z-score Outlier Removal', 'IQR Outlier Removal', 'Negative Values Removal']\n",
                "mse_values = [baseline_mse, zscore_mse, iqr_mse, neg_mse]\n",
                "rmse_values = [baseline_rmse, zscore_rmse, iqr_rmse, neg_rmse]\n",
                "r2_values = [baseline_r2, zscore_r2, iqr_r2, neg_r2]\n",
                "\n",
                "comparison_df = pd.DataFrame({\n",
                "    'Model': models,\n",
                "    'MSE': mse_values,\n",
                "    'RMSE': rmse_values,\n",
                "    'R-squared': r2_values\n",
                "})\n",
                "\n",
                "print(\"Model Comparison:\")\n",
                "print(comparison_df)\n",
                "\n",
                "# Visualize the comparison\n",
                "plt.figure(figsize=(12, 6))\n",
                "plt.bar(models, rmse_values, color=['blue', 'green', 'orange', 'red'])\n",
                "plt.title('RMSE Comparison Across Models')\n",
                "plt.ylabel('RMSE')\n",
                "plt.xticks(rotation=45, ha='right')\n",
                "plt.tight_layout()\n",
                "plt.show()\n",
                "\n",
                "plt.figure(figsize=(12, 6))\n",
                "plt.bar(models, r2_values, color=['blue', 'green', 'orange', 'red'])\n",
                "plt.title('R-squared Comparison Across Models')\n",
                "plt.ylabel('R-squared')\n",
                "plt.xticks(rotation=45, ha='right')\n",
                "plt.tight_layout()\n",
                "plt.show()"
            ]
        },
        {
            "cell_type": "markdown",
            "metadata": {},
            "source": [
                "## 9. Conclusion\n",
                "\n",
                "Based on the analysis above, we can draw the following conclusions:\n",
                "\n",
                "1. **Impact of Outlier Removal**: The comparison shows how removing outliers affects the model's performance metrics (MSE, RMSE, and R-squared).\n",
                "\n",
                "2. **Best Method**: The method that produces the lowest MSE/RMSE and highest R-squared is likely the most effective for this dataset.\n",
                "\n",
                "3. **Trade-offs**: Removing outliers reduces the dataset size, which might affect the model's generalizability. However, it can significantly improve the model's accuracy for the majority of cases.\n",
                "\n",
                "4. **Recommendation**: Based on the results, we can recommend whether outlier removal is beneficial for this particular dataset and which method is most effective."
            ]
        }
    ],
    "metadata": {
        "kernelspec": {
            "display_name": "Python 3",
            "language": "python",
            "name": "python3"
        },
        "language_info": {
            "codemirror_mode": {
                "name": "ipython",
                "version": 3
            },
            "file_extension": ".py",
            "mimetype": "text/x-python",
            "name": "python",
            "nbconvert_exporter": "python",
            "pygments_lexer": "ipython3",
            "version": "3.8.5"
        }
    },
    "nbformat": 4,
    "nbformat_minor": 4
}