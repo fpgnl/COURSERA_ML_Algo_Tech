{
 "cells": [
  {
   "cell_type": "markdown",
   "metadata": {},
   "source": [
    "# Practice Activity 5.4: Implementing feature selection techniques on a given dataset\n",
    "\n",
    "[link](https://www.coursera.org/learn/ai-and-machine-learning-algorithms-and-techniques/supplement/C4fw0/practice-activity-implementing-feature-selection-techniques-on-a-given-dataset)"
   ]
  },
  {
   "cell_type": "code",
   "execution_count": 40,
   "metadata": {},
   "outputs": [],
   "source": [
    "import pandas as pd\n",
    "import statsmodels.api as sm\n",
    "from sklearn.linear_model import LinearRegression, Lasso\n",
    "from sklearn.model_selection import train_test_split\n",
    "from sklearn.metrics import r2_score"
   ]
  },
  {
   "cell_type": "code",
   "execution_count": 41,
   "metadata": {},
   "outputs": [
    {
     "name": "stdout",
     "output_type": "stream",
     "text": [
      "   StudyHours  PrevExamScore  Pass\n",
      "0           5             83     0\n",
      "1           5             74     0\n",
      "2           9             72     1\n",
      "3           5             76     0\n",
      "4           6             69     0\n"
     ]
    }
   ],
   "source": [
    "# Sample dataset: Study hours, previous exam scores, and pass/fail labels\n",
    "# Load the data from the student_data.csv\n",
    "data = pd.read_csv('student_data.csv')\n",
    "\n",
    "df = pd.DataFrame(data)\n",
    "\n",
    "# Features and target variable\n",
    "X = df[['StudyHours', 'PrevExamScore']]\n",
    "y = df['Pass']\n",
    "print(df.head(5))"
   ]
  },
  {
   "cell_type": "code",
   "execution_count": 42,
   "metadata": {},
   "outputs": [
    {
     "name": "stdout",
     "output_type": "stream",
     "text": [
      "randonmaxboundery: 999\n",
      "random_state: 500\n"
     ]
    }
   ],
   "source": [
    "import random\n",
    "randonmaxboundery = len(df) - 1\n",
    "print(f\"randonmaxboundery: {randonmaxboundery}\")\n",
    "\n",
    "random_state = random.randint(0, randonmaxboundery)\n",
    "print(f\"random_state: {random_state}\")"
   ]
  },
  {
   "cell_type": "markdown",
   "metadata": {},
   "source": [
    "## Backward elimination"
   ]
  },
  {
   "cell_type": "code",
   "execution_count": 43,
   "metadata": {},
   "outputs": [
    {
     "name": "stdout",
     "output_type": "stream",
     "text": [
      "                            OLS Regression Results                            \n",
      "==============================================================================\n",
      "Dep. Variable:                   Pass   R-squared:                       0.633\n",
      "Model:                            OLS   Adj. R-squared:                  0.632\n",
      "Method:                 Least Squares   F-statistic:                     859.9\n",
      "Date:                Mon, 03 Mar 2025   Prob (F-statistic):          9.50e-218\n",
      "Time:                        23:02:57   Log-Likelihood:                -184.36\n",
      "No. Observations:                1000   AIC:                             374.7\n",
      "Df Residuals:                     997   BIC:                             389.4\n",
      "Df Model:                           2                                         \n",
      "Covariance Type:            nonrobust                                         \n",
      "=================================================================================\n",
      "                    coef    std err          t      P>|t|      [0.025      0.975]\n",
      "---------------------------------------------------------------------------------\n",
      "const            -1.4083      0.103    -13.623      0.000      -1.611      -1.205\n",
      "StudyHours        0.2263      0.005     41.262      0.000       0.215       0.237\n",
      "PrevExamScore     0.0067      0.001      4.907      0.000       0.004       0.009\n",
      "==============================================================================\n",
      "Omnibus:                     1267.149   Durbin-Watson:                   1.944\n",
      "Prob(Omnibus):                  0.000   Jarque-Bera (JB):               66.481\n",
      "Skew:                           0.052   Prob(JB):                     3.66e-15\n",
      "Kurtosis:                       1.741   Cond. No.                         793.\n",
      "==============================================================================\n",
      "\n",
      "Notes:\n",
      "[1] Standard Errors assume that the covariance matrix of the errors is correctly specified.\n",
      "                            OLS Regression Results                            \n",
      "==============================================================================\n",
      "Dep. Variable:                   Pass   R-squared:                       0.633\n",
      "Model:                            OLS   Adj. R-squared:                  0.632\n",
      "Method:                 Least Squares   F-statistic:                     859.9\n",
      "Date:                Mon, 03 Mar 2025   Prob (F-statistic):          9.50e-218\n",
      "Time:                        23:02:57   Log-Likelihood:                -184.36\n",
      "No. Observations:                1000   AIC:                             374.7\n",
      "Df Residuals:                     997   BIC:                             389.4\n",
      "Df Model:                           2                                         \n",
      "Covariance Type:            nonrobust                                         \n",
      "=================================================================================\n",
      "                    coef    std err          t      P>|t|      [0.025      0.975]\n",
      "---------------------------------------------------------------------------------\n",
      "const            -1.4083      0.103    -13.623      0.000      -1.611      -1.205\n",
      "StudyHours        0.2263      0.005     41.262      0.000       0.215       0.237\n",
      "PrevExamScore     0.0067      0.001      4.907      0.000       0.004       0.009\n",
      "==============================================================================\n",
      "Omnibus:                     1267.149   Durbin-Watson:                   1.944\n",
      "Prob(Omnibus):                  0.000   Jarque-Bera (JB):               66.481\n",
      "Skew:                           0.052   Prob(JB):                     3.66e-15\n",
      "Kurtosis:                       1.741   Cond. No.                         793.\n",
      "==============================================================================\n",
      "\n",
      "Notes:\n",
      "[1] Standard Errors assume that the covariance matrix of the errors is correctly specified.\n"
     ]
    }
   ],
   "source": [
    "# Add constant to the model\n",
    "X = sm.add_constant(X)\n",
    "\n",
    "# Fit the model using Ordinary Least Squares (OLS)\n",
    "model = sm.OLS(y, X).fit()\n",
    "\n",
    "# Display the model summary\n",
    "print(model.summary())\n",
    "\n",
    "# Remove feature with highest p-value if greater than 0.05\n",
    "if model.pvalues['StudyHours'] > 0.05:\n",
    "    X = X.drop(columns='StudyHours')\n",
    "    model = sm.OLS(y, X).fit()\n",
    "\n",
    "# Final model after backward elimination\n",
    "print(model.summary())"
   ]
  },
  {
   "cell_type": "markdown",
   "metadata": {},
   "source": [
    "## Forward selection"
   ]
  },
  {
   "cell_type": "code",
   "execution_count": 44,
   "metadata": {},
   "outputs": [
    {
     "name": "stdout",
     "output_type": "stream",
     "text": [
      "Selected features using Forward Selection: ['StudyHours', 'PrevExamScore']\n"
     ]
    }
   ],
   "source": [
    "def forward_selection(X, y):\n",
    "    remaining_features = set(X.columns)\n",
    "    selected_features = []\n",
    "    current_score = 0.0\n",
    "    \n",
    "    while remaining_features:\n",
    "        scores_with_candidates = []\n",
    "        \n",
    "        for feature in remaining_features:\n",
    "            features_to_test = selected_features + [feature]\n",
    "            X_train, X_test, y_train, y_test = train_test_split(X[features_to_test], y, test_size=0.2, random_state=random_state,shuffle=True)\n",
    "            \n",
    "            # Train the model\n",
    "            model = LinearRegression()\n",
    "            model.fit(X_train, y_train)\n",
    "            y_pred = model.predict(X_test)\n",
    "            score = r2_score(y_test, y_pred)\n",
    "            \n",
    "            scores_with_candidates.append((score, feature))\n",
    "        \n",
    "        # Select the feature with the highest score\n",
    "        scores_with_candidates.sort(reverse=True)\n",
    "        best_score, best_feature = scores_with_candidates[0]\n",
    "        \n",
    "        if current_score < best_score:\n",
    "            remaining_features.remove(best_feature)\n",
    "            selected_features.append(best_feature)\n",
    "            current_score = best_score\n",
    "        else:\n",
    "            break\n",
    "    \n",
    "    return selected_features\n",
    "\n",
    "best_features = forward_selection(X, y)\n",
    "print(f\"Selected features using Forward Selection: {best_features}\")"
   ]
  },
  {
   "cell_type": "markdown",
   "metadata": {},
   "source": [
    "## Implementing LASSO"
   ]
  },
  {
   "cell_type": "code",
   "execution_count": 45,
   "metadata": {},
   "outputs": [
    {
     "name": "stdout",
     "output_type": "stream",
     "text": [
      "R-squared score: 0.6370325001246487\n",
      "LASSO Coefficients: [0.         0.18780164 0.00446642]\n"
     ]
    }
   ],
   "source": [
    "# Split data into 80% training and 20% testing\n",
    "X_train, X_test, y_train, y_test = train_test_split(X, y, test_size=0.2, random_state=random_state,shuffle=True)\n",
    "\n",
    "# Initialize the LASSO model with alpha (regularization parameter)\n",
    "lasso_model = Lasso(alpha=0.1)\n",
    "\n",
    "# Train the LASSO model\n",
    "lasso_model.fit(X_train, y_train)\n",
    "\n",
    "# Make predictions and evaluate the model\n",
    "y_pred = lasso_model.predict(X_test)\n",
    "r2 = r2_score(y_test, y_pred)\n",
    "print(f'R-squared score: {r2}')\n",
    "\n",
    "# Display the coefficients of the features\n",
    "print(f'LASSO Coefficients: {lasso_model.coef_}')"
   ]
  }
 ],
 "metadata": {
  "kernelspec": {
   "display_name": ".venv",
   "language": "python",
   "name": "python3"
  },
  "language_info": {
   "codemirror_mode": {
    "name": "ipython",
    "version": 3
   },
   "file_extension": ".py",
   "mimetype": "text/x-python",
   "name": "python",
   "nbconvert_exporter": "python",
   "pygments_lexer": "ipython3",
   "version": "3.13.2"
  }
 },
 "nbformat": 4,
 "nbformat_minor": 2
}
