{
 "cells": [
  {
   "cell_type": "markdown",
   "metadata": {},
   "source": [
    "# Practice Activity 5.1: Implementing backward elimination\n",
    "\n",
    "[link](https://www.coursera.org/learn/ai-and-machine-learning-algorithms-and-techniques/supplement/TdDc3/practice-activity-implementing-backward-elimination)"
   ]
  },
  {
   "cell_type": "code",
   "execution_count": 3,
   "metadata": {},
   "outputs": [],
   "source": [
    "import pandas as pd\n",
    "import statsmodels.api as sm\n",
    "from sklearn.model_selection import train_test_split"
   ]
  },
  {
   "cell_type": "code",
   "execution_count": 4,
   "metadata": {},
   "outputs": [
    {
     "name": "stdout",
     "output_type": "stream",
     "text": [
      "   StudyHours  PrevExamScore  Pass\n",
      "0           5             83     0\n",
      "1           5             74     0\n",
      "2           9             72     1\n",
      "3           5             76     0\n",
      "4           6             69     0\n"
     ]
    }
   ],
   "source": [
    "# Sample dataset: Study hours, previous exam scores, and pass/fail labels\n",
    "# Load the data from the student_data.csv\n",
    "data = pd.read_csv('student_data.csv')\n",
    "\n",
    "df = pd.DataFrame(data)\n",
    "\n",
    "# Features and target variable\n",
    "X = df[['StudyHours', 'PrevExamScore']]\n",
    "y = df['Pass']\n",
    "print(df.head(5))"
   ]
  },
  {
   "cell_type": "code",
   "execution_count": 5,
   "metadata": {},
   "outputs": [],
   "source": [
    "# Add a constant to the model (for the intercept)\n",
    "X = sm.add_constant(X)"
   ]
  },
  {
   "cell_type": "code",
   "execution_count": 6,
   "metadata": {},
   "outputs": [
    {
     "name": "stdout",
     "output_type": "stream",
     "text": [
      "                            OLS Regression Results                            \n",
      "==============================================================================\n",
      "Dep. Variable:                   Pass   R-squared:                       0.633\n",
      "Model:                            OLS   Adj. R-squared:                  0.632\n",
      "Method:                 Least Squares   F-statistic:                     859.9\n",
      "Date:                Mon, 03 Mar 2025   Prob (F-statistic):          9.50e-218\n",
      "Time:                        22:25:09   Log-Likelihood:                -184.36\n",
      "No. Observations:                1000   AIC:                             374.7\n",
      "Df Residuals:                     997   BIC:                             389.4\n",
      "Df Model:                           2                                         \n",
      "Covariance Type:            nonrobust                                         \n",
      "=================================================================================\n",
      "                    coef    std err          t      P>|t|      [0.025      0.975]\n",
      "---------------------------------------------------------------------------------\n",
      "const            -1.4083      0.103    -13.623      0.000      -1.611      -1.205\n",
      "StudyHours        0.2263      0.005     41.262      0.000       0.215       0.237\n",
      "PrevExamScore     0.0067      0.001      4.907      0.000       0.004       0.009\n",
      "==============================================================================\n",
      "Omnibus:                     1267.149   Durbin-Watson:                   1.944\n",
      "Prob(Omnibus):                  0.000   Jarque-Bera (JB):               66.481\n",
      "Skew:                           0.052   Prob(JB):                     3.66e-15\n",
      "Kurtosis:                       1.741   Cond. No.                         793.\n",
      "==============================================================================\n",
      "\n",
      "Notes:\n",
      "[1] Standard Errors assume that the covariance matrix of the errors is correctly specified.\n"
     ]
    }
   ],
   "source": [
    "# Fit the model using Ordinary Least Squares (OLS) regression\n",
    "model = sm.OLS(y, X).fit()\n",
    "\n",
    "# Display the summary, including p-values for each feature\n",
    "print(model.summary())"
   ]
  },
  {
   "cell_type": "markdown",
   "metadata": {},
   "source": [
    "## backward elimination"
   ]
  },
  {
   "cell_type": "code",
   "execution_count": 7,
   "metadata": {},
   "outputs": [
    {
     "name": "stdout",
     "output_type": "stream",
     "text": [
      "                            OLS Regression Results                            \n",
      "==============================================================================\n",
      "Dep. Variable:                   Pass   R-squared:                       0.633\n",
      "Model:                            OLS   Adj. R-squared:                  0.632\n",
      "Method:                 Least Squares   F-statistic:                     859.9\n",
      "Date:                Mon, 03 Mar 2025   Prob (F-statistic):          9.50e-218\n",
      "Time:                        22:25:09   Log-Likelihood:                -184.36\n",
      "No. Observations:                1000   AIC:                             374.7\n",
      "Df Residuals:                     997   BIC:                             389.4\n",
      "Df Model:                           2                                         \n",
      "Covariance Type:            nonrobust                                         \n",
      "=================================================================================\n",
      "                    coef    std err          t      P>|t|      [0.025      0.975]\n",
      "---------------------------------------------------------------------------------\n",
      "const            -1.4083      0.103    -13.623      0.000      -1.611      -1.205\n",
      "StudyHours        0.2263      0.005     41.262      0.000       0.215       0.237\n",
      "PrevExamScore     0.0067      0.001      4.907      0.000       0.004       0.009\n",
      "==============================================================================\n",
      "Omnibus:                     1267.149   Durbin-Watson:                   1.944\n",
      "Prob(Omnibus):                  0.000   Jarque-Bera (JB):               66.481\n",
      "Skew:                           0.052   Prob(JB):                     3.66e-15\n",
      "Kurtosis:                       1.741   Cond. No.                         793.\n",
      "==============================================================================\n",
      "\n",
      "Notes:\n",
      "[1] Standard Errors assume that the covariance matrix of the errors is correctly specified.\n"
     ]
    }
   ],
   "source": [
    "# Define a significance level\n",
    "significance_level = 0.05\n",
    "\n",
    "# Perform backward elimination\n",
    "while True:\n",
    "    # Fit the model\n",
    "    model = sm.OLS(y, X).fit()\n",
    "    # Get the highest p-value in the model\n",
    "    max_p_value = model.pvalues.max()\n",
    "    \n",
    "    # Check if the highest p-value is greater than the significance level\n",
    "    if max_p_value > significance_level:\n",
    "        # Identify the feature with the highest p-value\n",
    "        feature_to_remove = model.pvalues.idxmax()\n",
    "        print(f\"Removing feature: {feature_to_remove} with p-value: {max_p_value}\")\n",
    "        \n",
    "        # Drop the feature\n",
    "        X = X.drop(columns=[feature_to_remove])\n",
    "    else:\n",
    "        break\n",
    "\n",
    "# Display the final model summary\n",
    "print(model.summary())"
   ]
  }
 ],
 "metadata": {
  "kernelspec": {
   "display_name": ".venv",
   "language": "python",
   "name": "python3"
  },
  "language_info": {
   "codemirror_mode": {
    "name": "ipython",
    "version": 3
   },
   "file_extension": ".py",
   "mimetype": "text/x-python",
   "name": "python",
   "nbconvert_exporter": "python",
   "pygments_lexer": "ipython3",
   "version": "3.13.2"
  }
 },
 "nbformat": 4,
 "nbformat_minor": 2
}
