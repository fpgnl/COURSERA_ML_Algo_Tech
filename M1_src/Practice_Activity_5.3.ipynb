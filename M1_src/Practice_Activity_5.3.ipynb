{
 "cells": [
  {
   "cell_type": "markdown",
   "metadata": {},
   "source": [
    "# Practice Activity 5.3: Implementing LASSO\n",
    "\n",
    "[link](https://www.coursera.org/learn/ai-and-machine-learning-algorithms-and-techniques/supplement/gqj4O/practice-activity-implementing-lasso)"
   ]
  },
  {
   "cell_type": "code",
   "execution_count": 1,
   "metadata": {},
   "outputs": [],
   "source": [
    "import pandas as pd\n",
    "from sklearn.linear_model import Lasso\n",
    "from sklearn.model_selection import train_test_split\n",
    "from sklearn.metrics import r2_score"
   ]
  },
  {
   "cell_type": "code",
   "execution_count": 2,
   "metadata": {},
   "outputs": [
    {
     "name": "stdout",
     "output_type": "stream",
     "text": [
      "   StudyHours  PrevExamScore  Pass\n",
      "0           5             83     0\n",
      "1           5             74     0\n",
      "2           9             72     1\n",
      "3           5             76     0\n",
      "4           6             69     0\n"
     ]
    }
   ],
   "source": [
    "# Sample dataset: Study hours, previous exam scores, and pass/fail labels\n",
    "# Load the data from the student_data.csv\n",
    "data = pd.read_csv('student_data.csv')\n",
    "\n",
    "df = pd.DataFrame(data)\n",
    "\n",
    "# Features and target variable\n",
    "X = df[['StudyHours', 'PrevExamScore']]\n",
    "y = df['Pass']\n",
    "print(df.head(5))"
   ]
  },
  {
   "cell_type": "markdown",
   "metadata": {},
   "source": [
    "## Splitting the data"
   ]
  },
  {
   "cell_type": "code",
   "execution_count": 3,
   "metadata": {},
   "outputs": [
    {
     "name": "stdout",
     "output_type": "stream",
     "text": [
      "randonmaxboundery: 999\n",
      "random_state: 104\n",
      "Training data: (800, 2), (800,)\n",
      "Testing data: (200, 2), (200,)\n"
     ]
    }
   ],
   "source": [
    "import random\n",
    "randonmaxboundery = len(df) - 1\n",
    "print(f\"randonmaxboundery: {randonmaxboundery}\")\n",
    "\n",
    "random_state = random.randint(0, randonmaxboundery)\n",
    "print(f\"random_state: {random_state}\")\n",
    "# Split data into 80% training and 20% testing\n",
    "X_train, X_test, y_train, y_test = train_test_split(X, y, test_size=0.2, random_state=random_state,shuffle=True)\n",
    "\n",
    "# Display the shape of the training and testing sets\n",
    "print(f\"Training data: {X_train.shape}, {y_train.shape}\")\n",
    "print(f\"Testing data: {X_test.shape}, {y_test.shape}\")"
   ]
  },
  {
   "cell_type": "markdown",
   "metadata": {},
   "source": [
    "## Applying LASSO"
   ]
  },
  {
   "cell_type": "code",
   "execution_count": 4,
   "metadata": {},
   "outputs": [
    {
     "name": "stdout",
     "output_type": "stream",
     "text": [
      "R-squared score: 0.623195939275456\n"
     ]
    }
   ],
   "source": [
    "# Initialize the LASSO model with alpha (regularization parameter)\n",
    "lasso_model = Lasso(alpha=0.1)\n",
    "\n",
    "# Train the model on the training data\n",
    "lasso_model.fit(X_train, y_train)\n",
    "\n",
    "# Make predictions on the test data\n",
    "y_pred = lasso_model.predict(X_test)\n",
    "\n",
    "# Evaluate the model's performance using R-squared\n",
    "r2 = r2_score(y_test, y_pred)\n",
    "print(f'R-squared score: {r2}')"
   ]
  },
  {
   "cell_type": "code",
   "execution_count": 5,
   "metadata": {},
   "outputs": [
    {
     "name": "stdout",
     "output_type": "stream",
     "text": [
      "LASSO Coefficients: [0.19064406 0.00423829]\n"
     ]
    }
   ],
   "source": [
    "# Display the coefficients of the features\n",
    "print(f'LASSO Coefficients: {lasso_model.coef_}')"
   ]
  },
  {
   "cell_type": "markdown",
   "metadata": {},
   "source": [
    "## Tuning the regularization parameter"
   ]
  },
  {
   "cell_type": "code",
   "execution_count": 6,
   "metadata": {},
   "outputs": [
    {
     "name": "stdout",
     "output_type": "stream",
     "text": [
      "Alpha: 0.01, R-squared score: 0.6407350976082357, Coefficients: [0.22250899 0.00637975]\n",
      "Alpha: 0.05, R-squared score: 0.6362859904014944, Coefficients: [0.2083468  0.00542799]\n",
      "Alpha: 0.1, R-squared score: 0.623195939275456, Coefficients: [0.19064406 0.00423829]\n",
      "Alpha: 0.5, R-squared score: 0.24287565901095443, Coefficients: [0.04978857 0.        ]\n",
      "Alpha: 1.0, R-squared score: -0.004741330939288524, Coefficients: [0. 0.]\n"
     ]
    }
   ],
   "source": [
    "# Try different alpha values and compare the results\n",
    "for alpha in [0.01, 0.05, 0.1, 0.5, 1.0]:\n",
    "    lasso_model = Lasso(alpha=alpha)\n",
    "    lasso_model.fit(X_train, y_train)\n",
    "    y_pred = lasso_model.predict(X_test)\n",
    "    r2 = r2_score(y_test, y_pred)\n",
    "    print(f'Alpha: {alpha}, R-squared score: {r2}, Coefficients: {lasso_model.coef_}')"
   ]
  }
 ],
 "metadata": {
  "kernelspec": {
   "display_name": ".venv",
   "language": "python",
   "name": "python3"
  },
  "language_info": {
   "codemirror_mode": {
    "name": "ipython",
    "version": 3
   },
   "file_extension": ".py",
   "mimetype": "text/x-python",
   "name": "python",
   "nbconvert_exporter": "python",
   "pygments_lexer": "ipython3",
   "version": "3.13.2"
  }
 },
 "nbformat": 4,
 "nbformat_minor": 2
}
