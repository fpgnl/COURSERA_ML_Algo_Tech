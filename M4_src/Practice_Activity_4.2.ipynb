{
 "cells": [
  {
   "cell_type": "markdown",
   "metadata": {},
   "source": [
    "# Practice Activity #2: Applying metrics and cross-validation\n",
    "\n",
    "[link](https://www.coursera.org/learn/ai-and-machine-learning-algorithms-and-techniques/supplement/Xl0WF/practice-activity-applying-metrics-and-cross-validation)"
   ]
  },
  {
   "cell_type": "code",
   "execution_count": 135,
   "metadata": {},
   "outputs": [],
   "source": [
    "import numpy as np\n",
    "import pandas as pd\n",
    "from sklearn.model_selection import train_test_split, cross_val_score, KFold\n",
    "from sklearn.linear_model import LogisticRegression\n",
    "from sklearn.tree import DecisionTreeClassifier\n",
    "from sklearn.metrics import accuracy_score, precision_score, recall_score, f1_score, r2_score"
   ]
  },
  {
   "cell_type": "code",
   "execution_count": 136,
   "metadata": {},
   "outputs": [
    {
     "name": "stdout",
     "output_type": "stream",
     "text": [
      "   StudyHours  PrevExamScore  Pass\n",
      "0           5             83     0\n",
      "1           5             74     0\n",
      "2           9             72     1\n",
      "3           5             76     0\n",
      "4           6             69     0\n"
     ]
    }
   ],
   "source": [
    "# Sample dataset: Study hours, previous exam scores, and pass/fail labels\n",
    "# Load the data from the student_data.csv\n",
    "data = pd.read_csv('student_data.csv')\n",
    "\n",
    "df = pd.DataFrame(data)\n",
    "\n",
    "# Features and target variable\n",
    "X = df[['StudyHours', 'PrevExamScore']]\n",
    "y = df['Pass']\n",
    "print(df.head(5))"
   ]
  },
  {
   "cell_type": "code",
   "execution_count": 137,
   "metadata": {},
   "outputs": [
    {
     "name": "stdout",
     "output_type": "stream",
     "text": [
      "randonmaxboundery: 999\n",
      "random_state: 856\n",
      "Training data: (800, 2), (800,)\n",
      "Testing data: (200, 2), (200,)\n"
     ]
    }
   ],
   "source": [
    "import random\n",
    "randonmaxboundery = len(df) - 1\n",
    "print(f\"randonmaxboundery: {randonmaxboundery}\")\n",
    "\n",
    "random_state = random.randint(0, randonmaxboundery)\n",
    "print(f\"random_state: {random_state}\")\n",
    "# Split data into 80% training and 20% testing\n",
    "X_train, X_test, y_train, y_test = train_test_split(X, y, test_size=0.2, random_state=random_state,shuffle=True)\n",
    "\n",
    "# Display the shape of the training and testing sets\n",
    "print(f\"Training data: {X_train.shape}, {y_train.shape}\")\n",
    "print(f\"Testing data: {X_test.shape}, {y_test.shape}\")"
   ]
  },
  {
   "cell_type": "code",
   "execution_count": 138,
   "metadata": {},
   "outputs": [
    {
     "name": "stderr",
     "output_type": "stream",
     "text": [
      "/Users/fpgnl/Resilio Sync/Frank_Dev/Python_Dev/Coursera/Course_2_Algorithms and Techniques /.venv/lib/python3.13/site-packages/sklearn/linear_model/_linear_loss.py:200: RuntimeWarning: divide by zero encountered in matmul\n",
      "  raw_prediction = X @ weights + intercept\n",
      "/Users/fpgnl/Resilio Sync/Frank_Dev/Python_Dev/Coursera/Course_2_Algorithms and Techniques /.venv/lib/python3.13/site-packages/sklearn/linear_model/_linear_loss.py:200: RuntimeWarning: overflow encountered in matmul\n",
      "  raw_prediction = X @ weights + intercept\n",
      "/Users/fpgnl/Resilio Sync/Frank_Dev/Python_Dev/Coursera/Course_2_Algorithms and Techniques /.venv/lib/python3.13/site-packages/sklearn/linear_model/_linear_loss.py:200: RuntimeWarning: invalid value encountered in matmul\n",
      "  raw_prediction = X @ weights + intercept\n"
     ]
    }
   ],
   "source": [
    "# Initialize and train the Logistic Regression model\n",
    "model = LogisticRegression()\n",
    "model.fit(X_train, y_train)\n",
    "\n",
    "# Make predictions on the test set\n",
    "y_pred = model.predict(X_test)"
   ]
  },
  {
   "cell_type": "code",
   "execution_count": 139,
   "metadata": {},
   "outputs": [
    {
     "name": "stdout",
     "output_type": "stream",
     "text": [
      "Accuracy: 0.995\n",
      "Precision: 1.0\n",
      "Recall: 0.9921259842519685\n",
      "F1-Score: 0.9960474308300395\n"
     ]
    }
   ],
   "source": [
    "# Calculate metrics\n",
    "accuracy = accuracy_score(y_test, y_pred)\n",
    "precision = precision_score(y_test, y_pred)\n",
    "recall = recall_score(y_test, y_pred)\n",
    "f1 = f1_score(y_test, y_pred)\n",
    "\n",
    "print(f'Accuracy: {accuracy}')\n",
    "print(f'Precision: {precision}')\n",
    "print(f'Recall: {recall}')\n",
    "print(f'F1-Score: {f1}')"
   ]
  },
  {
   "cell_type": "markdown",
   "metadata": {},
   "source": [
    "## Introducing cross-validation\n",
    "\n",
    "_Cross-validation allows you to split the dataset into multiple subsets and reliably calculate model performance_\n",
    "Cross-validation involves splitting the data into multiple folds, training the model on some folds, and testing it on the remaining folds. The process is repeated for each fold, and the average performance is taken across all folds."
   ]
  },
  {
   "cell_type": "markdown",
   "metadata": {},
   "source": [
    "### Performing k-fold cross-validation\n",
    "\n",
    "You will use k-fold cross-validation, where the dataset is split into k equal parts (folds). Each fold is used as a test set while the remaining folds are used for training:"
   ]
  },
  {
   "cell_type": "code",
   "execution_count": 140,
   "metadata": {},
   "outputs": [
    {
     "name": "stdout",
     "output_type": "stream",
     "text": [
      "Cross-validation accuracies: [0.975 0.995 1.    0.99  0.99 ]\n",
      "Mean cross-validation accuracy: 0.99\n"
     ]
    },
    {
     "name": "stderr",
     "output_type": "stream",
     "text": [
      "/Users/fpgnl/Resilio Sync/Frank_Dev/Python_Dev/Coursera/Course_2_Algorithms and Techniques /.venv/lib/python3.13/site-packages/sklearn/linear_model/_linear_loss.py:200: RuntimeWarning: divide by zero encountered in matmul\n",
      "  raw_prediction = X @ weights + intercept\n",
      "/Users/fpgnl/Resilio Sync/Frank_Dev/Python_Dev/Coursera/Course_2_Algorithms and Techniques /.venv/lib/python3.13/site-packages/sklearn/linear_model/_linear_loss.py:200: RuntimeWarning: overflow encountered in matmul\n",
      "  raw_prediction = X @ weights + intercept\n",
      "/Users/fpgnl/Resilio Sync/Frank_Dev/Python_Dev/Coursera/Course_2_Algorithms and Techniques /.venv/lib/python3.13/site-packages/sklearn/linear_model/_linear_loss.py:200: RuntimeWarning: invalid value encountered in matmul\n",
      "  raw_prediction = X @ weights + intercept\n",
      "/Users/fpgnl/Resilio Sync/Frank_Dev/Python_Dev/Coursera/Course_2_Algorithms and Techniques /.venv/lib/python3.13/site-packages/sklearn/linear_model/_linear_loss.py:200: RuntimeWarning: divide by zero encountered in matmul\n",
      "  raw_prediction = X @ weights + intercept\n",
      "/Users/fpgnl/Resilio Sync/Frank_Dev/Python_Dev/Coursera/Course_2_Algorithms and Techniques /.venv/lib/python3.13/site-packages/sklearn/linear_model/_linear_loss.py:200: RuntimeWarning: overflow encountered in matmul\n",
      "  raw_prediction = X @ weights + intercept\n",
      "/Users/fpgnl/Resilio Sync/Frank_Dev/Python_Dev/Coursera/Course_2_Algorithms and Techniques /.venv/lib/python3.13/site-packages/sklearn/linear_model/_linear_loss.py:200: RuntimeWarning: invalid value encountered in matmul\n",
      "  raw_prediction = X @ weights + intercept\n",
      "/Users/fpgnl/Resilio Sync/Frank_Dev/Python_Dev/Coursera/Course_2_Algorithms and Techniques /.venv/lib/python3.13/site-packages/sklearn/linear_model/_linear_loss.py:200: RuntimeWarning: divide by zero encountered in matmul\n",
      "  raw_prediction = X @ weights + intercept\n",
      "/Users/fpgnl/Resilio Sync/Frank_Dev/Python_Dev/Coursera/Course_2_Algorithms and Techniques /.venv/lib/python3.13/site-packages/sklearn/linear_model/_linear_loss.py:200: RuntimeWarning: overflow encountered in matmul\n",
      "  raw_prediction = X @ weights + intercept\n",
      "/Users/fpgnl/Resilio Sync/Frank_Dev/Python_Dev/Coursera/Course_2_Algorithms and Techniques /.venv/lib/python3.13/site-packages/sklearn/linear_model/_linear_loss.py:200: RuntimeWarning: invalid value encountered in matmul\n",
      "  raw_prediction = X @ weights + intercept\n",
      "/Users/fpgnl/Resilio Sync/Frank_Dev/Python_Dev/Coursera/Course_2_Algorithms and Techniques /.venv/lib/python3.13/site-packages/sklearn/linear_model/_linear_loss.py:200: RuntimeWarning: divide by zero encountered in matmul\n",
      "  raw_prediction = X @ weights + intercept\n",
      "/Users/fpgnl/Resilio Sync/Frank_Dev/Python_Dev/Coursera/Course_2_Algorithms and Techniques /.venv/lib/python3.13/site-packages/sklearn/linear_model/_linear_loss.py:200: RuntimeWarning: overflow encountered in matmul\n",
      "  raw_prediction = X @ weights + intercept\n",
      "/Users/fpgnl/Resilio Sync/Frank_Dev/Python_Dev/Coursera/Course_2_Algorithms and Techniques /.venv/lib/python3.13/site-packages/sklearn/linear_model/_linear_loss.py:200: RuntimeWarning: invalid value encountered in matmul\n",
      "  raw_prediction = X @ weights + intercept\n",
      "/Users/fpgnl/Resilio Sync/Frank_Dev/Python_Dev/Coursera/Course_2_Algorithms and Techniques /.venv/lib/python3.13/site-packages/sklearn/linear_model/_linear_loss.py:200: RuntimeWarning: divide by zero encountered in matmul\n",
      "  raw_prediction = X @ weights + intercept\n",
      "/Users/fpgnl/Resilio Sync/Frank_Dev/Python_Dev/Coursera/Course_2_Algorithms and Techniques /.venv/lib/python3.13/site-packages/sklearn/linear_model/_linear_loss.py:200: RuntimeWarning: overflow encountered in matmul\n",
      "  raw_prediction = X @ weights + intercept\n",
      "/Users/fpgnl/Resilio Sync/Frank_Dev/Python_Dev/Coursera/Course_2_Algorithms and Techniques /.venv/lib/python3.13/site-packages/sklearn/linear_model/_linear_loss.py:200: RuntimeWarning: invalid value encountered in matmul\n",
      "  raw_prediction = X @ weights + intercept\n"
     ]
    }
   ],
   "source": [
    "from sklearn.model_selection import cross_val_score\n",
    "\n",
    "# Initialize the model\n",
    "model = LogisticRegression()\n",
    "\n",
    "# Perform 5-fold cross-validation and calculate accuracy for each fold\n",
    "cv_scores = cross_val_score(model, X, y, cv=5, scoring='accuracy')\n",
    "\n",
    "# Display the accuracy for each fold and the mean accuracy\n",
    "print(f'Cross-validation accuracies: {cv_scores}')\n",
    "print(f'Mean cross-validation accuracy: {np.mean(cv_scores)}')"
   ]
  },
  {
   "cell_type": "markdown",
   "metadata": {},
   "source": [
    "### Cross-validation with multiple metrics\n",
    "\n",
    "Calculate multiple metrics during cross-validation using the scoring parameter. Use k-fold cross-validation to calculate accuracy, precision, recall, and F1 score:"
   ]
  },
  {
   "cell_type": "code",
   "execution_count": 141,
   "metadata": {},
   "outputs": [
    {
     "name": "stdout",
     "output_type": "stream",
     "text": [
      "Cross-validation Accuracy: [0.975 0.995 1.    0.99  0.99 ] <> mean: 0.99\n",
      "Cross-validation Accuracy: [1. 1. 1. 1. 1.] <> mean: 1.0\n",
      "Cross-validation Accuracy: [0.96062992 0.9921875  1.         0.984375   0.984375  ] <> mean: 0.9843134842519685\n",
      "Cross-validation Accuracy: [0.97991968 0.99607843 1.         0.99212598 0.99212598] <> mean: 0.992050015718269\n"
     ]
    },
    {
     "name": "stderr",
     "output_type": "stream",
     "text": [
      "/Users/fpgnl/Resilio Sync/Frank_Dev/Python_Dev/Coursera/Course_2_Algorithms and Techniques /.venv/lib/python3.13/site-packages/sklearn/linear_model/_linear_loss.py:200: RuntimeWarning: divide by zero encountered in matmul\n",
      "  raw_prediction = X @ weights + intercept\n",
      "/Users/fpgnl/Resilio Sync/Frank_Dev/Python_Dev/Coursera/Course_2_Algorithms and Techniques /.venv/lib/python3.13/site-packages/sklearn/linear_model/_linear_loss.py:200: RuntimeWarning: overflow encountered in matmul\n",
      "  raw_prediction = X @ weights + intercept\n",
      "/Users/fpgnl/Resilio Sync/Frank_Dev/Python_Dev/Coursera/Course_2_Algorithms and Techniques /.venv/lib/python3.13/site-packages/sklearn/linear_model/_linear_loss.py:200: RuntimeWarning: invalid value encountered in matmul\n",
      "  raw_prediction = X @ weights + intercept\n",
      "/Users/fpgnl/Resilio Sync/Frank_Dev/Python_Dev/Coursera/Course_2_Algorithms and Techniques /.venv/lib/python3.13/site-packages/sklearn/linear_model/_linear_loss.py:200: RuntimeWarning: divide by zero encountered in matmul\n",
      "  raw_prediction = X @ weights + intercept\n",
      "/Users/fpgnl/Resilio Sync/Frank_Dev/Python_Dev/Coursera/Course_2_Algorithms and Techniques /.venv/lib/python3.13/site-packages/sklearn/linear_model/_linear_loss.py:200: RuntimeWarning: overflow encountered in matmul\n",
      "  raw_prediction = X @ weights + intercept\n",
      "/Users/fpgnl/Resilio Sync/Frank_Dev/Python_Dev/Coursera/Course_2_Algorithms and Techniques /.venv/lib/python3.13/site-packages/sklearn/linear_model/_linear_loss.py:200: RuntimeWarning: invalid value encountered in matmul\n",
      "  raw_prediction = X @ weights + intercept\n",
      "/Users/fpgnl/Resilio Sync/Frank_Dev/Python_Dev/Coursera/Course_2_Algorithms and Techniques /.venv/lib/python3.13/site-packages/sklearn/linear_model/_linear_loss.py:200: RuntimeWarning: divide by zero encountered in matmul\n",
      "  raw_prediction = X @ weights + intercept\n",
      "/Users/fpgnl/Resilio Sync/Frank_Dev/Python_Dev/Coursera/Course_2_Algorithms and Techniques /.venv/lib/python3.13/site-packages/sklearn/linear_model/_linear_loss.py:200: RuntimeWarning: overflow encountered in matmul\n",
      "  raw_prediction = X @ weights + intercept\n",
      "/Users/fpgnl/Resilio Sync/Frank_Dev/Python_Dev/Coursera/Course_2_Algorithms and Techniques /.venv/lib/python3.13/site-packages/sklearn/linear_model/_linear_loss.py:200: RuntimeWarning: invalid value encountered in matmul\n",
      "  raw_prediction = X @ weights + intercept\n",
      "/Users/fpgnl/Resilio Sync/Frank_Dev/Python_Dev/Coursera/Course_2_Algorithms and Techniques /.venv/lib/python3.13/site-packages/sklearn/linear_model/_linear_loss.py:200: RuntimeWarning: divide by zero encountered in matmul\n",
      "  raw_prediction = X @ weights + intercept\n",
      "/Users/fpgnl/Resilio Sync/Frank_Dev/Python_Dev/Coursera/Course_2_Algorithms and Techniques /.venv/lib/python3.13/site-packages/sklearn/linear_model/_linear_loss.py:200: RuntimeWarning: overflow encountered in matmul\n",
      "  raw_prediction = X @ weights + intercept\n",
      "/Users/fpgnl/Resilio Sync/Frank_Dev/Python_Dev/Coursera/Course_2_Algorithms and Techniques /.venv/lib/python3.13/site-packages/sklearn/linear_model/_linear_loss.py:200: RuntimeWarning: invalid value encountered in matmul\n",
      "  raw_prediction = X @ weights + intercept\n",
      "/Users/fpgnl/Resilio Sync/Frank_Dev/Python_Dev/Coursera/Course_2_Algorithms and Techniques /.venv/lib/python3.13/site-packages/sklearn/linear_model/_linear_loss.py:200: RuntimeWarning: divide by zero encountered in matmul\n",
      "  raw_prediction = X @ weights + intercept\n",
      "/Users/fpgnl/Resilio Sync/Frank_Dev/Python_Dev/Coursera/Course_2_Algorithms and Techniques /.venv/lib/python3.13/site-packages/sklearn/linear_model/_linear_loss.py:200: RuntimeWarning: overflow encountered in matmul\n",
      "  raw_prediction = X @ weights + intercept\n",
      "/Users/fpgnl/Resilio Sync/Frank_Dev/Python_Dev/Coursera/Course_2_Algorithms and Techniques /.venv/lib/python3.13/site-packages/sklearn/linear_model/_linear_loss.py:200: RuntimeWarning: invalid value encountered in matmul\n",
      "  raw_prediction = X @ weights + intercept\n"
     ]
    }
   ],
   "source": [
    "from sklearn.model_selection import cross_validate\n",
    "\n",
    "# Define multiple scoring metrics\n",
    "scoring = ['accuracy', 'precision', 'recall', 'f1']\n",
    "\n",
    "# Perform cross-validation\n",
    "cv_results = cross_validate(model, X, y, cv=5, scoring=scoring)\n",
    "\n",
    "# Print results for each metric\n",
    "print(f\"Cross-validation Accuracy: {cv_results['test_accuracy']} <> mean: {np.mean(cv_results['test_accuracy'])}\")\n",
    "print(f\"Cross-validation Accuracy: {cv_results['test_precision']} <> mean: {np.mean(cv_results['test_precision'])}\")\n",
    "print(f\"Cross-validation Accuracy: {cv_results['test_recall']} <> mean: {np.mean(cv_results['test_recall'])}\")\n",
    "print(f\"Cross-validation Accuracy: {cv_results['test_f1']} <> mean: {np.mean(cv_results['test_f1'])}\")"
   ]
  },
  {
   "cell_type": "markdown",
   "metadata": {},
   "source": [
    "### Cross-validation with a regression model\n",
    "\n",
    "For regression tasks, use metrics such as mean absolute error (MAE), mean squared error (MSE), and R-squared. Apply these metrics with cross-validation for a regression model:"
   ]
  },
  {
   "cell_type": "code",
   "execution_count": 142,
   "metadata": {},
   "outputs": [
    {
     "name": "stdout",
     "output_type": "stream",
     "text": [
      "Cross-validation R-squared scores: [-0.00266315 -0.00136984 -0.00899793 -0.00407431 -0.01346386]\n",
      "Mean R-squared score: -0.006113819703703482\n"
     ]
    }
   ],
   "source": [
    "from sklearn.linear_model import LinearRegression\n",
    "from sklearn.metrics import mean_squared_error, mean_absolute_error, r2_score\n",
    "\n",
    "# Sample dataset for regression\n",
    "X_reg = df[['StudyHours']]\n",
    "y_reg = df['PrevExamScore']\n",
    "\n",
    "# Initialize a linear regression model\n",
    "reg_model = LinearRegression()\n",
    "\n",
    "# Perform 5-fold cross-validation using R-squared as the metric\n",
    "cv_scores_r2 = cross_val_score(reg_model, X_reg, y_reg, cv=5, scoring='r2')\n",
    "\n",
    "print(f'Cross-validation R-squared scores: {cv_scores_r2}')\n",
    "print(f'Mean R-squared score: {np.mean(cv_scores_r2)}')"
   ]
  }
 ],
 "metadata": {
  "kernelspec": {
   "display_name": ".venv",
   "language": "python",
   "name": "python3"
  },
  "language_info": {
   "codemirror_mode": {
    "name": "ipython",
    "version": 3
   },
   "file_extension": ".py",
   "mimetype": "text/x-python",
   "name": "python",
   "nbconvert_exporter": "python",
   "pygments_lexer": "ipython3",
   "version": "3.13.2"
  }
 },
 "nbformat": 4,
 "nbformat_minor": 2
}
